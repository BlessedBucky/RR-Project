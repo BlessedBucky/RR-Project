{
 "cells": [
  {
   "cell_type": "markdown",
   "metadata": {},
   "source": [
    "### Loading libraries and the dataset "
   ]
  },
  {
   "cell_type": "code",
   "execution_count": 1,
   "metadata": {},
   "outputs": [],
   "source": [
    "# Loading libraries \n",
    "import pandas as pd\n",
    "from sklearn.model_selection import train_test_split\n",
    "from sklearn.ensemble import RandomForestClassifier\n",
    "from sklearn.ensemble import RandomForestClassifier\n",
    "from sklearn.model_selection import RandomizedSearchCV \n",
    "from sklearn.metrics import accuracy_score, precision_score, recall_score, f1_score\n",
    "from scipy.stats import randint \n",
    "\n",
    "# Reading the data \n",
    "file_path = '../credit_risk_dataset_cleaned.csv'\n",
    "df = pd.read_csv(file_path)"
   ]
  },
  {
   "cell_type": "markdown",
   "metadata": {},
   "source": [
    "### Preparation of modeling dataset "
   ]
  },
  {
   "cell_type": "code",
   "execution_count": 2,
   "metadata": {},
   "outputs": [],
   "source": [
    "# Assigning features and target columns \n",
    "X = df.drop('loan_status', axis=1) \n",
    "y = df['loan_status'] \n",
    "\n",
    "# Dividing features into categorical and numerical \n",
    "categorical_features = X.select_dtypes(include=['object']).columns.tolist() \n",
    "numerical_features = X.select_dtypes(exclude=['object']).columns.tolist() \n",
    "\n",
    "# One-hot encoding \n",
    "X_encoded = pd.get_dummies(X, drop_first=True) \n",
    "\n",
    "# Train-test split \n",
    "X_train, X_test, y_train, y_test = train_test_split(X_encoded, y, test_size=0.3, random_state=37) "
   ]
  },
  {
   "cell_type": "markdown",
   "metadata": {},
   "source": [
    "### Training the model "
   ]
  },
  {
   "cell_type": "code",
   "execution_count": 3,
   "metadata": {},
   "outputs": [
    {
     "name": "stderr",
     "output_type": "stream",
     "text": [
      "/Library/Frameworks/Python.framework/Versions/3.12/lib/python3.12/site-packages/sklearn/model_selection/_validation.py:425: FitFailedWarning: \n",
      "15 fits failed out of a total of 500.\n",
      "The score on these train-test partitions for these parameters will be set to nan.\n",
      "If these failures are not expected, you can try to debug them by setting error_score='raise'.\n",
      "\n",
      "Below are more details about the failures:\n",
      "--------------------------------------------------------------------------------\n",
      "15 fits failed with the following error:\n",
      "Traceback (most recent call last):\n",
      "  File \"/Library/Frameworks/Python.framework/Versions/3.12/lib/python3.12/site-packages/sklearn/model_selection/_validation.py\", line 729, in _fit_and_score\n",
      "    estimator.fit(X_train, y_train, **fit_params)\n",
      "  File \"/Library/Frameworks/Python.framework/Versions/3.12/lib/python3.12/site-packages/sklearn/base.py\", line 1145, in wrapper\n",
      "    estimator._validate_params()\n",
      "  File \"/Library/Frameworks/Python.framework/Versions/3.12/lib/python3.12/site-packages/sklearn/base.py\", line 638, in _validate_params\n",
      "    validate_parameter_constraints(\n",
      "  File \"/Library/Frameworks/Python.framework/Versions/3.12/lib/python3.12/site-packages/sklearn/utils/_param_validation.py\", line 95, in validate_parameter_constraints\n",
      "    raise InvalidParameterError(\n",
      "sklearn.utils._param_validation.InvalidParameterError: The 'max_depth' parameter of RandomForestClassifier must be an int in the range [1, inf) or None. Got 0 instead.\n",
      "\n",
      "  warnings.warn(some_fits_failed_message, FitFailedWarning)\n",
      "/Library/Frameworks/Python.framework/Versions/3.12/lib/python3.12/site-packages/sklearn/model_selection/_search.py:979: UserWarning: One or more of the test scores are non-finite: [8.08878664e-01 8.08018894e-01 7.97042707e-01 8.12653020e-01\n",
      " 7.93227270e-01 8.10364498e-01 7.91667074e-01 8.14253479e-01\n",
      " 0.00000000e+00 7.98106783e-01 7.74141959e-01 7.75115840e-01\n",
      " 7.53814348e-01 7.83638552e-01 7.87714196e-01 7.90454336e-01\n",
      "            nan 6.74209897e-01 7.80889044e-01 8.06160159e-01\n",
      " 7.67435300e-01 7.93065732e-01 7.93367864e-01 8.09043552e-01\n",
      " 7.93821210e-01 7.70387312e-01 7.82545140e-01 7.83853334e-01\n",
      " 8.15430060e-01            nan 7.93592061e-01 7.16825446e-01\n",
      " 7.96163302e-01 7.87534254e-01 8.03404985e-01 7.18599716e-01\n",
      " 8.01051524e-01 8.07384833e-01 7.85668135e-01 7.75420023e-01\n",
      " 7.73644100e-01 8.02640031e-01 7.91124776e-01 8.02122550e-01\n",
      " 7.89730751e-01 8.06514485e-01 8.02569483e-01 7.62167927e-01\n",
      " 8.12298973e-01 7.91860300e-01 7.81933285e-01 7.72534309e-01\n",
      " 7.81168547e-01 7.07190487e-01 7.93013931e-01 7.80990067e-01\n",
      " 7.90728651e-01 7.96235651e-01 8.19276783e-01 7.93913715e-01\n",
      " 8.10267523e-01 7.93124528e-01 7.90135520e-01 8.10037186e-01\n",
      " 7.92416774e-01 7.95872869e-01 7.91136666e-01            nan\n",
      " 4.08580184e-04 7.89583831e-01 8.09420176e-01 7.86833341e-01\n",
      " 7.90760447e-01 7.78905776e-01 7.63862865e-01 1.42350563e-01\n",
      " 3.88904856e-01 7.97345158e-01 7.88252182e-01 6.67896284e-01\n",
      " 8.00927339e-01 7.86991213e-01 7.88525332e-01 7.88437256e-01\n",
      " 7.92084373e-01 7.15692919e-01 7.84429785e-01 0.00000000e+00\n",
      " 7.90112397e-01 7.90237528e-01 7.90302617e-01 7.77105019e-01\n",
      " 7.92660437e-01 7.86174145e-01 8.15982547e-01 4.79975492e-01\n",
      " 7.72934636e-01 7.86541249e-01 1.45475404e-01 7.92839053e-01]\n",
      "  warnings.warn(\n"
     ]
    },
    {
     "name": "stdout",
     "output_type": "stream",
     "text": [
      "{'bootstrap': False, 'max_depth': 16, 'min_samples_leaf': 2, 'min_samples_split': 26, 'n_estimators': 378}\n"
     ]
    }
   ],
   "source": [
    "# Random forest definition \n",
    "rf = RandomForestClassifier(random_state=37)\n",
    "\n",
    "# Hyperparameters space \n",
    "param_dist = {\n",
    "    'n_estimators': randint(100, 500),\n",
    "    'max_depth': randint(0, 50),\n",
    "    'min_samples_split': randint(2, 50),\n",
    "    'min_samples_leaf': randint(2, 50),\n",
    "    'bootstrap': [True, False]\n",
    "}\n",
    "\n",
    "# RandomizedSearchCV \n",
    "random_search = RandomizedSearchCV(\n",
    "    rf,\n",
    "    param_distributions=param_dist,\n",
    "    n_iter=100,\n",
    "    cv=5,\n",
    "    scoring='f1',\n",
    "    random_state=37,\n",
    "    n_jobs=-1\n",
    ")\n",
    "\n",
    "# Fitting the model \n",
    "random_search.fit(X_train, y_train)\n",
    "\n",
    "# Final model \n",
    "model = random_search.best_estimator_\n",
    "\n",
    "# Printing best model specification \n",
    "print(random_search.best_params_)\n"
   ]
  },
  {
   "cell_type": "markdown",
   "metadata": {},
   "source": [
    "### Calculating and displaying obtained results on train set "
   ]
  },
  {
   "cell_type": "code",
   "execution_count": 4,
   "metadata": {},
   "outputs": [
    {
     "name": "stdout",
     "output_type": "stream",
     "text": [
      "accuracy   : 0.9435\n",
      "precision_0: 0.9346\n",
      "precision_1: 0.9892\n",
      "recall_0   : 0.9977\n",
      "recall_1   : 0.7464\n",
      "f1_0       : 0.9651\n",
      "f1_1       : 0.8508\n"
     ]
    }
   ],
   "source": [
    "# Prediction of train set \n",
    "y_pred = model.predict(X_train)\n",
    "\n",
    "# Calculation of accuracy measures \n",
    "accuracy = accuracy_score(y_train, y_pred)\n",
    "precision_0 = precision_score(y_train, y_pred, pos_label=0)\n",
    "precision_1 = precision_score(y_train, y_pred, pos_label=1)\n",
    "recall_0 = recall_score(y_train, y_pred, pos_label=0)\n",
    "recall_1 = recall_score(y_train, y_pred, pos_label=1)\n",
    "f1_0 = f1_score(y_train, y_pred, pos_label=0)\n",
    "f1_1 = f1_score(y_train, y_pred, pos_label=1)\n",
    "\n",
    "# Displaying the results \n",
    "print(f\"accuracy   : {accuracy:.4f}\")\n",
    "print(f\"precision_0: {precision_0:.4f}\")\n",
    "print(f\"precision_1: {precision_1:.4f}\")\n",
    "print(f\"recall_0   : {recall_0:.4f}\")\n",
    "print(f\"recall_1   : {recall_1:.4f}\")\n",
    "print(f\"f1_0       : {f1_0:.4f}\")\n",
    "print(f\"f1_1       : {f1_1:.4f}\")"
   ]
  },
  {
   "cell_type": "markdown",
   "metadata": {},
   "source": [
    "### Calculating and displaying obtained results on test set "
   ]
  },
  {
   "cell_type": "code",
   "execution_count": 5,
   "metadata": {},
   "outputs": [
    {
     "name": "stdout",
     "output_type": "stream",
     "text": [
      "accuracy   : 0.9270\n",
      "precision_0: 0.9186\n",
      "precision_1: 0.9702\n",
      "recall_0   : 0.9937\n",
      "recall_1   : 0.6983\n",
      "f1_0       : 0.9547\n",
      "f1_1       : 0.8121\n"
     ]
    }
   ],
   "source": [
    "# Prediction of test set \n",
    "y_pred = model.predict(X_test) \n",
    "\n",
    "# Calculation of accuracy measures \n",
    "accuracy = accuracy_score(y_test, y_pred) \n",
    "precision_0 = precision_score(y_test, y_pred, pos_label=0) \n",
    "precision_1 = precision_score(y_test, y_pred, pos_label=1) \n",
    "recall_0 = recall_score(y_test, y_pred, pos_label=0) \n",
    "recall_1 = recall_score(y_test, y_pred, pos_label=1) \n",
    "f1_0 = f1_score(y_test, y_pred, pos_label=0) \n",
    "f1_1 = f1_score(y_test, y_pred, pos_label=1) \n",
    "\n",
    "# Displaying the results \n",
    "print(f\"accuracy   : {accuracy:.4f}\") \n",
    "print(f\"precision_0: {precision_0:.4f}\") \n",
    "print(f\"precision_1: {precision_1:.4f}\") \n",
    "print(f\"recall_0   : {recall_0:.4f}\") \n",
    "print(f\"recall_1   : {recall_1:.4f}\") \n",
    "print(f\"f1_0       : {f1_0:.4f}\") \n",
    "print(f\"f1_1       : {f1_1:.4f}\") "
   ]
  }
 ],
 "metadata": {
  "kernelspec": {
   "display_name": "Python 3",
   "language": "python",
   "name": "python3"
  },
  "language_info": {
   "codemirror_mode": {
    "name": "ipython",
    "version": 3
   },
   "file_extension": ".py",
   "mimetype": "text/x-python",
   "name": "python",
   "nbconvert_exporter": "python",
   "pygments_lexer": "ipython3",
   "version": "3.12.0"
  },
  "orig_nbformat": 4
 },
 "nbformat": 4,
 "nbformat_minor": 2
}
