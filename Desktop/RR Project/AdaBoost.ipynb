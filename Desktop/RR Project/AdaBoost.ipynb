{
  "cells": [
    {
      "cell_type": "markdown",
      "source": [
        "# AdaBoost"
      ],
      "metadata": {
        "id": "fGYQxYVla8t5"
      },
      "id": "fGYQxYVla8t5"
    },
    {
      "cell_type": "markdown",
      "id": "a5151b6a",
      "metadata": {
        "id": "a5151b6a"
      },
      "source": [
        "Load packages"
      ]
    },
    {
      "cell_type": "code",
      "execution_count": 28,
      "id": "abdc5e01",
      "metadata": {
        "id": "abdc5e01"
      },
      "outputs": [],
      "source": [
        "import pandas as pd\n",
        "from sklearn.model_selection import train_test_split\n",
        "from sklearn.ensemble import AdaBoostClassifier\n",
        "from sklearn.metrics import classification_report"
      ]
    },
    {
      "cell_type": "markdown",
      "id": "24d69865",
      "metadata": {
        "id": "24d69865"
      },
      "source": [
        "Load dataset"
      ]
    },
    {
      "cell_type": "code",
      "execution_count": 29,
      "id": "6daeca8d",
      "metadata": {
        "id": "6daeca8d"
      },
      "outputs": [],
      "source": [
        "df = pd.read_csv(\"/content/credit_risk_dataset_cleaned.csv\")"
      ]
    },
    {
      "cell_type": "markdown",
      "id": "4b3146f5",
      "metadata": {
        "id": "4b3146f5"
      },
      "source": [
        "Split dataset into train and test, random state not specified (using 42 as it has been the most common choice in my experience)"
      ]
    },
    {
      "cell_type": "code",
      "execution_count": 30,
      "id": "77e9e791",
      "metadata": {
        "id": "77e9e791"
      },
      "outputs": [],
      "source": [
        "df_split = pd.get_dummies(df, drop_first=True)\n",
        "X = df_split.drop(\"cb_person_default_on_file_Y\", axis=1)\n",
        "y = df_split[\"cb_person_default_on_file_Y\"]\n",
        "\n",
        "X_train, X_test, y_train, y_test = train_test_split(X, y, test_size=0.3, random_state=42)"
      ]
    },
    {
      "cell_type": "markdown",
      "id": "1f812990",
      "metadata": {
        "id": "1f812990"
      },
      "source": [
        "AdaBoost model"
      ]
    },
    {
      "cell_type": "code",
      "execution_count": 31,
      "id": "69c707ad",
      "metadata": {
        "id": "69c707ad"
      },
      "outputs": [],
      "source": [
        "model = AdaBoostClassifier(random_state=42)\n",
        "model.fit(X_train, y_train)\n",
        "\n",
        "train_pred = model.predict(X_train)\n",
        "test_pred = model.predict(X_test)"
      ]
    },
    {
      "cell_type": "markdown",
      "id": "3a827420",
      "metadata": {
        "id": "3a827420"
      },
      "source": [
        "Outputting required metrics"
      ]
    },
    {
      "cell_type": "code",
      "execution_count": 32,
      "id": "6c9ed8a1",
      "metadata": {
        "id": "6c9ed8a1"
      },
      "outputs": [],
      "source": [
        "metrics_train = classification_report(y_train, train_pred, output_dict=True)\n",
        "metrics_test = classification_report(y_test, test_pred, output_dict=True)"
      ]
    },
    {
      "cell_type": "code",
      "execution_count": 33,
      "id": "60afb8ad",
      "metadata": {
        "colab": {
          "base_uri": "https://localhost:8080/"
        },
        "id": "60afb8ad",
        "outputId": "156a4ee8-7ac4-479f-b851-8539318a8059"
      },
      "outputs": [
        {
          "output_type": "stream",
          "name": "stdout",
          "text": [
            "{'False': {'precision': 0.9519544539332083, 'recall': 0.8340531662509885, 'f1-score': 0.8891122495298619, 'support': 16439.0}, 'True': {'precision': 0.5104091888011486, 'recall': 0.8042986425339367, 'f1-score': 0.6245059288537549, 'support': 3536.0}, 'accuracy': 0.8287859824780976, 'macro avg': {'precision': 0.7311818213671785, 'recall': 0.8191759043924626, 'f1-score': 0.7568090891918084, 'support': 19975.0}, 'weighted avg': {'precision': 0.8737915474247246, 'recall': 0.8287859824780976, 'f1-score': 0.8422713008484745, 'support': 19975.0}}\n"
          ]
        }
      ],
      "source": [
        "print(metrics_train)"
      ]
    },
    {
      "cell_type": "markdown",
      "id": "3ae06e2a",
      "metadata": {
        "id": "3ae06e2a"
      },
      "source": [
        "Train subset"
      ]
    },
    {
      "cell_type": "code",
      "execution_count": 34,
      "id": "06892436",
      "metadata": {
        "colab": {
          "base_uri": "https://localhost:8080/"
        },
        "id": "06892436",
        "outputId": "33af40c7-0e5d-4a4d-debe-e5a0b1ac5fb6"
      },
      "outputs": [
        {
          "output_type": "stream",
          "name": "stdout",
          "text": [
            "accuracy: 0.829\n",
            "precision_0: 0.952\n",
            "precision_1: 0.510\n",
            "recall_0: 0.834\n",
            "recall_1: 0.804\n",
            "f1_0: 0.889\n",
            "f1_1: 0.625\n"
          ]
        }
      ],
      "source": [
        "print(f\"accuracy: {metrics_train['accuracy']:.3f}\")\n",
        "print(f\"precision_0: {metrics_train['False']['precision']:.3f}\")\n",
        "print(f\"precision_1: {metrics_train['True']['precision']:.3f}\")\n",
        "print(f\"recall_0: {metrics_train['False']['recall']:.3f}\")\n",
        "print(f\"recall_1: {metrics_train['True']['recall']:.3f}\")\n",
        "print(f\"f1_0: {metrics_train['False']['f1-score']:.3f}\")\n",
        "print(f\"f1_1: {metrics_train['True']['f1-score']:.3f}\")"
      ]
    },
    {
      "cell_type": "markdown",
      "id": "fd036b9e",
      "metadata": {
        "id": "fd036b9e"
      },
      "source": [
        "Test subset"
      ]
    },
    {
      "cell_type": "code",
      "execution_count": 35,
      "id": "87736b6b",
      "metadata": {
        "colab": {
          "base_uri": "https://localhost:8080/"
        },
        "id": "87736b6b",
        "outputId": "1ea0ce04-610f-4898-ea41-b2602ce8fdfb"
      },
      "outputs": [
        {
          "output_type": "stream",
          "name": "stdout",
          "text": [
            "accuracy: 0.824\n",
            "precision_0: 0.946\n",
            "precision_1: 0.507\n",
            "recall_0: 0.832\n",
            "recall_1: 0.784\n",
            "f1_0: 0.886\n",
            "f1_1: 0.616\n"
          ]
        }
      ],
      "source": [
        "print(f\"accuracy: {metrics_test['accuracy']:.3f}\")\n",
        "print(f\"precision_0: {metrics_test['False']['precision']:.3f}\")\n",
        "print(f\"precision_1: {metrics_test['True']['precision']:.3f}\")\n",
        "print(f\"recall_0: {metrics_test['False']['recall']:.3f}\")\n",
        "print(f\"recall_1: {metrics_test['True']['recall']:.3f}\")\n",
        "print(f\"f1_0: {metrics_test['False']['f1-score']:.3f}\")\n",
        "print(f\"f1_1: {metrics_test['True']['f1-score']:.3f}\")"
      ]
    },
    {
      "cell_type": "markdown",
      "id": "2f221128",
      "metadata": {
        "id": "2f221128"
      },
      "source": [
        "# XGBoost"
      ]
    },
    {
      "cell_type": "markdown",
      "source": [
        "Load packages"
      ],
      "metadata": {
        "id": "ybTOdrAFfURm"
      },
      "id": "ybTOdrAFfURm"
    },
    {
      "cell_type": "code",
      "source": [
        "import xgboost as xgb"
      ],
      "metadata": {
        "id": "y9OhoMggerDP"
      },
      "id": "y9OhoMggerDP",
      "execution_count": 36,
      "outputs": []
    },
    {
      "cell_type": "markdown",
      "source": [
        "Training model"
      ],
      "metadata": {
        "id": "PjdmIrMtfVwI"
      },
      "id": "PjdmIrMtfVwI"
    },
    {
      "cell_type": "code",
      "source": [
        "xgb_model = xgb.XGBClassifier(use_label_encoder=False, eval_metric='logloss')\n",
        "xgb_model.fit(X_train, y_train)"
      ],
      "metadata": {
        "colab": {
          "base_uri": "https://localhost:8080/",
          "height": 328
        },
        "id": "GpyFwYHtehfr",
        "outputId": "0f1ccca4-4b27-4240-e5c9-17b0434b9d14"
      },
      "id": "GpyFwYHtehfr",
      "execution_count": 37,
      "outputs": [
        {
          "output_type": "stream",
          "name": "stderr",
          "text": [
            "/usr/local/lib/python3.11/dist-packages/xgboost/core.py:158: UserWarning: [20:36:43] WARNING: /workspace/src/learner.cc:740: \n",
            "Parameters: { \"use_label_encoder\" } are not used.\n",
            "\n",
            "  warnings.warn(smsg, UserWarning)\n"
          ]
        },
        {
          "output_type": "execute_result",
          "data": {
            "text/plain": [
              "XGBClassifier(base_score=None, booster=None, callbacks=None,\n",
              "              colsample_bylevel=None, colsample_bynode=None,\n",
              "              colsample_bytree=None, device=None, early_stopping_rounds=None,\n",
              "              enable_categorical=False, eval_metric='logloss',\n",
              "              feature_types=None, gamma=None, grow_policy=None,\n",
              "              importance_type=None, interaction_constraints=None,\n",
              "              learning_rate=None, max_bin=None, max_cat_threshold=None,\n",
              "              max_cat_to_onehot=None, max_delta_step=None, max_depth=None,\n",
              "              max_leaves=None, min_child_weight=None, missing=nan,\n",
              "              monotone_constraints=None, multi_strategy=None, n_estimators=None,\n",
              "              n_jobs=None, num_parallel_tree=None, random_state=None, ...)"
            ],
            "text/html": [
              "<style>#sk-container-id-3 {\n",
              "  /* Definition of color scheme common for light and dark mode */\n",
              "  --sklearn-color-text: #000;\n",
              "  --sklearn-color-text-muted: #666;\n",
              "  --sklearn-color-line: gray;\n",
              "  /* Definition of color scheme for unfitted estimators */\n",
              "  --sklearn-color-unfitted-level-0: #fff5e6;\n",
              "  --sklearn-color-unfitted-level-1: #f6e4d2;\n",
              "  --sklearn-color-unfitted-level-2: #ffe0b3;\n",
              "  --sklearn-color-unfitted-level-3: chocolate;\n",
              "  /* Definition of color scheme for fitted estimators */\n",
              "  --sklearn-color-fitted-level-0: #f0f8ff;\n",
              "  --sklearn-color-fitted-level-1: #d4ebff;\n",
              "  --sklearn-color-fitted-level-2: #b3dbfd;\n",
              "  --sklearn-color-fitted-level-3: cornflowerblue;\n",
              "\n",
              "  /* Specific color for light theme */\n",
              "  --sklearn-color-text-on-default-background: var(--sg-text-color, var(--theme-code-foreground, var(--jp-content-font-color1, black)));\n",
              "  --sklearn-color-background: var(--sg-background-color, var(--theme-background, var(--jp-layout-color0, white)));\n",
              "  --sklearn-color-border-box: var(--sg-text-color, var(--theme-code-foreground, var(--jp-content-font-color1, black)));\n",
              "  --sklearn-color-icon: #696969;\n",
              "\n",
              "  @media (prefers-color-scheme: dark) {\n",
              "    /* Redefinition of color scheme for dark theme */\n",
              "    --sklearn-color-text-on-default-background: var(--sg-text-color, var(--theme-code-foreground, var(--jp-content-font-color1, white)));\n",
              "    --sklearn-color-background: var(--sg-background-color, var(--theme-background, var(--jp-layout-color0, #111)));\n",
              "    --sklearn-color-border-box: var(--sg-text-color, var(--theme-code-foreground, var(--jp-content-font-color1, white)));\n",
              "    --sklearn-color-icon: #878787;\n",
              "  }\n",
              "}\n",
              "\n",
              "#sk-container-id-3 {\n",
              "  color: var(--sklearn-color-text);\n",
              "}\n",
              "\n",
              "#sk-container-id-3 pre {\n",
              "  padding: 0;\n",
              "}\n",
              "\n",
              "#sk-container-id-3 input.sk-hidden--visually {\n",
              "  border: 0;\n",
              "  clip: rect(1px 1px 1px 1px);\n",
              "  clip: rect(1px, 1px, 1px, 1px);\n",
              "  height: 1px;\n",
              "  margin: -1px;\n",
              "  overflow: hidden;\n",
              "  padding: 0;\n",
              "  position: absolute;\n",
              "  width: 1px;\n",
              "}\n",
              "\n",
              "#sk-container-id-3 div.sk-dashed-wrapped {\n",
              "  border: 1px dashed var(--sklearn-color-line);\n",
              "  margin: 0 0.4em 0.5em 0.4em;\n",
              "  box-sizing: border-box;\n",
              "  padding-bottom: 0.4em;\n",
              "  background-color: var(--sklearn-color-background);\n",
              "}\n",
              "\n",
              "#sk-container-id-3 div.sk-container {\n",
              "  /* jupyter's `normalize.less` sets `[hidden] { display: none; }`\n",
              "     but bootstrap.min.css set `[hidden] { display: none !important; }`\n",
              "     so we also need the `!important` here to be able to override the\n",
              "     default hidden behavior on the sphinx rendered scikit-learn.org.\n",
              "     See: https://github.com/scikit-learn/scikit-learn/issues/21755 */\n",
              "  display: inline-block !important;\n",
              "  position: relative;\n",
              "}\n",
              "\n",
              "#sk-container-id-3 div.sk-text-repr-fallback {\n",
              "  display: none;\n",
              "}\n",
              "\n",
              "div.sk-parallel-item,\n",
              "div.sk-serial,\n",
              "div.sk-item {\n",
              "  /* draw centered vertical line to link estimators */\n",
              "  background-image: linear-gradient(var(--sklearn-color-text-on-default-background), var(--sklearn-color-text-on-default-background));\n",
              "  background-size: 2px 100%;\n",
              "  background-repeat: no-repeat;\n",
              "  background-position: center center;\n",
              "}\n",
              "\n",
              "/* Parallel-specific style estimator block */\n",
              "\n",
              "#sk-container-id-3 div.sk-parallel-item::after {\n",
              "  content: \"\";\n",
              "  width: 100%;\n",
              "  border-bottom: 2px solid var(--sklearn-color-text-on-default-background);\n",
              "  flex-grow: 1;\n",
              "}\n",
              "\n",
              "#sk-container-id-3 div.sk-parallel {\n",
              "  display: flex;\n",
              "  align-items: stretch;\n",
              "  justify-content: center;\n",
              "  background-color: var(--sklearn-color-background);\n",
              "  position: relative;\n",
              "}\n",
              "\n",
              "#sk-container-id-3 div.sk-parallel-item {\n",
              "  display: flex;\n",
              "  flex-direction: column;\n",
              "}\n",
              "\n",
              "#sk-container-id-3 div.sk-parallel-item:first-child::after {\n",
              "  align-self: flex-end;\n",
              "  width: 50%;\n",
              "}\n",
              "\n",
              "#sk-container-id-3 div.sk-parallel-item:last-child::after {\n",
              "  align-self: flex-start;\n",
              "  width: 50%;\n",
              "}\n",
              "\n",
              "#sk-container-id-3 div.sk-parallel-item:only-child::after {\n",
              "  width: 0;\n",
              "}\n",
              "\n",
              "/* Serial-specific style estimator block */\n",
              "\n",
              "#sk-container-id-3 div.sk-serial {\n",
              "  display: flex;\n",
              "  flex-direction: column;\n",
              "  align-items: center;\n",
              "  background-color: var(--sklearn-color-background);\n",
              "  padding-right: 1em;\n",
              "  padding-left: 1em;\n",
              "}\n",
              "\n",
              "\n",
              "/* Toggleable style: style used for estimator/Pipeline/ColumnTransformer box that is\n",
              "clickable and can be expanded/collapsed.\n",
              "- Pipeline and ColumnTransformer use this feature and define the default style\n",
              "- Estimators will overwrite some part of the style using the `sk-estimator` class\n",
              "*/\n",
              "\n",
              "/* Pipeline and ColumnTransformer style (default) */\n",
              "\n",
              "#sk-container-id-3 div.sk-toggleable {\n",
              "  /* Default theme specific background. It is overwritten whether we have a\n",
              "  specific estimator or a Pipeline/ColumnTransformer */\n",
              "  background-color: var(--sklearn-color-background);\n",
              "}\n",
              "\n",
              "/* Toggleable label */\n",
              "#sk-container-id-3 label.sk-toggleable__label {\n",
              "  cursor: pointer;\n",
              "  display: flex;\n",
              "  width: 100%;\n",
              "  margin-bottom: 0;\n",
              "  padding: 0.5em;\n",
              "  box-sizing: border-box;\n",
              "  text-align: center;\n",
              "  align-items: start;\n",
              "  justify-content: space-between;\n",
              "  gap: 0.5em;\n",
              "}\n",
              "\n",
              "#sk-container-id-3 label.sk-toggleable__label .caption {\n",
              "  font-size: 0.6rem;\n",
              "  font-weight: lighter;\n",
              "  color: var(--sklearn-color-text-muted);\n",
              "}\n",
              "\n",
              "#sk-container-id-3 label.sk-toggleable__label-arrow:before {\n",
              "  /* Arrow on the left of the label */\n",
              "  content: \"▸\";\n",
              "  float: left;\n",
              "  margin-right: 0.25em;\n",
              "  color: var(--sklearn-color-icon);\n",
              "}\n",
              "\n",
              "#sk-container-id-3 label.sk-toggleable__label-arrow:hover:before {\n",
              "  color: var(--sklearn-color-text);\n",
              "}\n",
              "\n",
              "/* Toggleable content - dropdown */\n",
              "\n",
              "#sk-container-id-3 div.sk-toggleable__content {\n",
              "  max-height: 0;\n",
              "  max-width: 0;\n",
              "  overflow: hidden;\n",
              "  text-align: left;\n",
              "  /* unfitted */\n",
              "  background-color: var(--sklearn-color-unfitted-level-0);\n",
              "}\n",
              "\n",
              "#sk-container-id-3 div.sk-toggleable__content.fitted {\n",
              "  /* fitted */\n",
              "  background-color: var(--sklearn-color-fitted-level-0);\n",
              "}\n",
              "\n",
              "#sk-container-id-3 div.sk-toggleable__content pre {\n",
              "  margin: 0.2em;\n",
              "  border-radius: 0.25em;\n",
              "  color: var(--sklearn-color-text);\n",
              "  /* unfitted */\n",
              "  background-color: var(--sklearn-color-unfitted-level-0);\n",
              "}\n",
              "\n",
              "#sk-container-id-3 div.sk-toggleable__content.fitted pre {\n",
              "  /* unfitted */\n",
              "  background-color: var(--sklearn-color-fitted-level-0);\n",
              "}\n",
              "\n",
              "#sk-container-id-3 input.sk-toggleable__control:checked~div.sk-toggleable__content {\n",
              "  /* Expand drop-down */\n",
              "  max-height: 200px;\n",
              "  max-width: 100%;\n",
              "  overflow: auto;\n",
              "}\n",
              "\n",
              "#sk-container-id-3 input.sk-toggleable__control:checked~label.sk-toggleable__label-arrow:before {\n",
              "  content: \"▾\";\n",
              "}\n",
              "\n",
              "/* Pipeline/ColumnTransformer-specific style */\n",
              "\n",
              "#sk-container-id-3 div.sk-label input.sk-toggleable__control:checked~label.sk-toggleable__label {\n",
              "  color: var(--sklearn-color-text);\n",
              "  background-color: var(--sklearn-color-unfitted-level-2);\n",
              "}\n",
              "\n",
              "#sk-container-id-3 div.sk-label.fitted input.sk-toggleable__control:checked~label.sk-toggleable__label {\n",
              "  background-color: var(--sklearn-color-fitted-level-2);\n",
              "}\n",
              "\n",
              "/* Estimator-specific style */\n",
              "\n",
              "/* Colorize estimator box */\n",
              "#sk-container-id-3 div.sk-estimator input.sk-toggleable__control:checked~label.sk-toggleable__label {\n",
              "  /* unfitted */\n",
              "  background-color: var(--sklearn-color-unfitted-level-2);\n",
              "}\n",
              "\n",
              "#sk-container-id-3 div.sk-estimator.fitted input.sk-toggleable__control:checked~label.sk-toggleable__label {\n",
              "  /* fitted */\n",
              "  background-color: var(--sklearn-color-fitted-level-2);\n",
              "}\n",
              "\n",
              "#sk-container-id-3 div.sk-label label.sk-toggleable__label,\n",
              "#sk-container-id-3 div.sk-label label {\n",
              "  /* The background is the default theme color */\n",
              "  color: var(--sklearn-color-text-on-default-background);\n",
              "}\n",
              "\n",
              "/* On hover, darken the color of the background */\n",
              "#sk-container-id-3 div.sk-label:hover label.sk-toggleable__label {\n",
              "  color: var(--sklearn-color-text);\n",
              "  background-color: var(--sklearn-color-unfitted-level-2);\n",
              "}\n",
              "\n",
              "/* Label box, darken color on hover, fitted */\n",
              "#sk-container-id-3 div.sk-label.fitted:hover label.sk-toggleable__label.fitted {\n",
              "  color: var(--sklearn-color-text);\n",
              "  background-color: var(--sklearn-color-fitted-level-2);\n",
              "}\n",
              "\n",
              "/* Estimator label */\n",
              "\n",
              "#sk-container-id-3 div.sk-label label {\n",
              "  font-family: monospace;\n",
              "  font-weight: bold;\n",
              "  display: inline-block;\n",
              "  line-height: 1.2em;\n",
              "}\n",
              "\n",
              "#sk-container-id-3 div.sk-label-container {\n",
              "  text-align: center;\n",
              "}\n",
              "\n",
              "/* Estimator-specific */\n",
              "#sk-container-id-3 div.sk-estimator {\n",
              "  font-family: monospace;\n",
              "  border: 1px dotted var(--sklearn-color-border-box);\n",
              "  border-radius: 0.25em;\n",
              "  box-sizing: border-box;\n",
              "  margin-bottom: 0.5em;\n",
              "  /* unfitted */\n",
              "  background-color: var(--sklearn-color-unfitted-level-0);\n",
              "}\n",
              "\n",
              "#sk-container-id-3 div.sk-estimator.fitted {\n",
              "  /* fitted */\n",
              "  background-color: var(--sklearn-color-fitted-level-0);\n",
              "}\n",
              "\n",
              "/* on hover */\n",
              "#sk-container-id-3 div.sk-estimator:hover {\n",
              "  /* unfitted */\n",
              "  background-color: var(--sklearn-color-unfitted-level-2);\n",
              "}\n",
              "\n",
              "#sk-container-id-3 div.sk-estimator.fitted:hover {\n",
              "  /* fitted */\n",
              "  background-color: var(--sklearn-color-fitted-level-2);\n",
              "}\n",
              "\n",
              "/* Specification for estimator info (e.g. \"i\" and \"?\") */\n",
              "\n",
              "/* Common style for \"i\" and \"?\" */\n",
              "\n",
              ".sk-estimator-doc-link,\n",
              "a:link.sk-estimator-doc-link,\n",
              "a:visited.sk-estimator-doc-link {\n",
              "  float: right;\n",
              "  font-size: smaller;\n",
              "  line-height: 1em;\n",
              "  font-family: monospace;\n",
              "  background-color: var(--sklearn-color-background);\n",
              "  border-radius: 1em;\n",
              "  height: 1em;\n",
              "  width: 1em;\n",
              "  text-decoration: none !important;\n",
              "  margin-left: 0.5em;\n",
              "  text-align: center;\n",
              "  /* unfitted */\n",
              "  border: var(--sklearn-color-unfitted-level-1) 1pt solid;\n",
              "  color: var(--sklearn-color-unfitted-level-1);\n",
              "}\n",
              "\n",
              ".sk-estimator-doc-link.fitted,\n",
              "a:link.sk-estimator-doc-link.fitted,\n",
              "a:visited.sk-estimator-doc-link.fitted {\n",
              "  /* fitted */\n",
              "  border: var(--sklearn-color-fitted-level-1) 1pt solid;\n",
              "  color: var(--sklearn-color-fitted-level-1);\n",
              "}\n",
              "\n",
              "/* On hover */\n",
              "div.sk-estimator:hover .sk-estimator-doc-link:hover,\n",
              ".sk-estimator-doc-link:hover,\n",
              "div.sk-label-container:hover .sk-estimator-doc-link:hover,\n",
              ".sk-estimator-doc-link:hover {\n",
              "  /* unfitted */\n",
              "  background-color: var(--sklearn-color-unfitted-level-3);\n",
              "  color: var(--sklearn-color-background);\n",
              "  text-decoration: none;\n",
              "}\n",
              "\n",
              "div.sk-estimator.fitted:hover .sk-estimator-doc-link.fitted:hover,\n",
              ".sk-estimator-doc-link.fitted:hover,\n",
              "div.sk-label-container:hover .sk-estimator-doc-link.fitted:hover,\n",
              ".sk-estimator-doc-link.fitted:hover {\n",
              "  /* fitted */\n",
              "  background-color: var(--sklearn-color-fitted-level-3);\n",
              "  color: var(--sklearn-color-background);\n",
              "  text-decoration: none;\n",
              "}\n",
              "\n",
              "/* Span, style for the box shown on hovering the info icon */\n",
              ".sk-estimator-doc-link span {\n",
              "  display: none;\n",
              "  z-index: 9999;\n",
              "  position: relative;\n",
              "  font-weight: normal;\n",
              "  right: .2ex;\n",
              "  padding: .5ex;\n",
              "  margin: .5ex;\n",
              "  width: min-content;\n",
              "  min-width: 20ex;\n",
              "  max-width: 50ex;\n",
              "  color: var(--sklearn-color-text);\n",
              "  box-shadow: 2pt 2pt 4pt #999;\n",
              "  /* unfitted */\n",
              "  background: var(--sklearn-color-unfitted-level-0);\n",
              "  border: .5pt solid var(--sklearn-color-unfitted-level-3);\n",
              "}\n",
              "\n",
              ".sk-estimator-doc-link.fitted span {\n",
              "  /* fitted */\n",
              "  background: var(--sklearn-color-fitted-level-0);\n",
              "  border: var(--sklearn-color-fitted-level-3);\n",
              "}\n",
              "\n",
              ".sk-estimator-doc-link:hover span {\n",
              "  display: block;\n",
              "}\n",
              "\n",
              "/* \"?\"-specific style due to the `<a>` HTML tag */\n",
              "\n",
              "#sk-container-id-3 a.estimator_doc_link {\n",
              "  float: right;\n",
              "  font-size: 1rem;\n",
              "  line-height: 1em;\n",
              "  font-family: monospace;\n",
              "  background-color: var(--sklearn-color-background);\n",
              "  border-radius: 1rem;\n",
              "  height: 1rem;\n",
              "  width: 1rem;\n",
              "  text-decoration: none;\n",
              "  /* unfitted */\n",
              "  color: var(--sklearn-color-unfitted-level-1);\n",
              "  border: var(--sklearn-color-unfitted-level-1) 1pt solid;\n",
              "}\n",
              "\n",
              "#sk-container-id-3 a.estimator_doc_link.fitted {\n",
              "  /* fitted */\n",
              "  border: var(--sklearn-color-fitted-level-1) 1pt solid;\n",
              "  color: var(--sklearn-color-fitted-level-1);\n",
              "}\n",
              "\n",
              "/* On hover */\n",
              "#sk-container-id-3 a.estimator_doc_link:hover {\n",
              "  /* unfitted */\n",
              "  background-color: var(--sklearn-color-unfitted-level-3);\n",
              "  color: var(--sklearn-color-background);\n",
              "  text-decoration: none;\n",
              "}\n",
              "\n",
              "#sk-container-id-3 a.estimator_doc_link.fitted:hover {\n",
              "  /* fitted */\n",
              "  background-color: var(--sklearn-color-fitted-level-3);\n",
              "}\n",
              "</style><div id=\"sk-container-id-3\" class=\"sk-top-container\"><div class=\"sk-text-repr-fallback\"><pre>XGBClassifier(base_score=None, booster=None, callbacks=None,\n",
              "              colsample_bylevel=None, colsample_bynode=None,\n",
              "              colsample_bytree=None, device=None, early_stopping_rounds=None,\n",
              "              enable_categorical=False, eval_metric=&#x27;logloss&#x27;,\n",
              "              feature_types=None, gamma=None, grow_policy=None,\n",
              "              importance_type=None, interaction_constraints=None,\n",
              "              learning_rate=None, max_bin=None, max_cat_threshold=None,\n",
              "              max_cat_to_onehot=None, max_delta_step=None, max_depth=None,\n",
              "              max_leaves=None, min_child_weight=None, missing=nan,\n",
              "              monotone_constraints=None, multi_strategy=None, n_estimators=None,\n",
              "              n_jobs=None, num_parallel_tree=None, random_state=None, ...)</pre></div><div class=\"sk-container\" hidden><div class=\"sk-item\"><div class=\"sk-estimator fitted sk-toggleable\"><input class=\"sk-toggleable__control sk-hidden--visually\" id=\"sk-estimator-id-3\" type=\"checkbox\" checked><label for=\"sk-estimator-id-3\" class=\"sk-toggleable__label fitted sk-toggleable__label-arrow\"><div><div>XGBClassifier</div></div><div><span class=\"sk-estimator-doc-link fitted\">i<span>Fitted</span></span></div></label><div class=\"sk-toggleable__content fitted\"><pre>XGBClassifier(base_score=None, booster=None, callbacks=None,\n",
              "              colsample_bylevel=None, colsample_bynode=None,\n",
              "              colsample_bytree=None, device=None, early_stopping_rounds=None,\n",
              "              enable_categorical=False, eval_metric=&#x27;logloss&#x27;,\n",
              "              feature_types=None, gamma=None, grow_policy=None,\n",
              "              importance_type=None, interaction_constraints=None,\n",
              "              learning_rate=None, max_bin=None, max_cat_threshold=None,\n",
              "              max_cat_to_onehot=None, max_delta_step=None, max_depth=None,\n",
              "              max_leaves=None, min_child_weight=None, missing=nan,\n",
              "              monotone_constraints=None, multi_strategy=None, n_estimators=None,\n",
              "              n_jobs=None, num_parallel_tree=None, random_state=None, ...)</pre></div> </div></div></div></div>"
            ]
          },
          "metadata": {},
          "execution_count": 37
        }
      ]
    },
    {
      "cell_type": "markdown",
      "source": [
        "Predicting results"
      ],
      "metadata": {
        "id": "RylZ-EvWfd7o"
      },
      "id": "RylZ-EvWfd7o"
    },
    {
      "cell_type": "code",
      "source": [
        "train_pred = xgb_model.predict(X_train)\n",
        "test_pred = xgb_model.predict(X_test)"
      ],
      "metadata": {
        "id": "t57MPc8ze72n"
      },
      "id": "t57MPc8ze72n",
      "execution_count": 38,
      "outputs": []
    },
    {
      "cell_type": "code",
      "source": [
        "metrics_train = classification_report(y_train, train_pred, output_dict=True)\n",
        "metrics_test = classification_report(y_test, test_pred, output_dict=True)\n",
        "print(metrics_train)"
      ],
      "metadata": {
        "colab": {
          "base_uri": "https://localhost:8080/"
        },
        "id": "SU5RsycSbKwd",
        "outputId": "b0f26fc4-f607-4773-ed76-22232d3dd5aa"
      },
      "id": "SU5RsycSbKwd",
      "execution_count": 39,
      "outputs": [
        {
          "output_type": "stream",
          "name": "stdout",
          "text": [
            "{'False': {'precision': 0.9741295349403457, 'recall': 0.9734777054565363, 'f1-score': 0.9738035111205768, 'support': 16439.0}, 'True': {'precision': 0.8770792218776431, 'recall': 0.8798076923076923, 'f1-score': 0.8784413384159254, 'support': 3536.0}, 'accuracy': 0.9568961201501878, 'macro avg': {'precision': 0.9256043784089945, 'recall': 0.9266426988821144, 'f1-score': 0.9261224247682511, 'support': 19975.0}, 'weighted avg': {'precision': 0.9569495646279694, 'recall': 0.9568961201501878, 'f1-score': 0.9569223775694556, 'support': 19975.0}}\n"
          ]
        }
      ]
    },
    {
      "cell_type": "markdown",
      "source": [
        "Training results"
      ],
      "metadata": {
        "id": "MtfOywabfnEH"
      },
      "id": "MtfOywabfnEH"
    },
    {
      "cell_type": "code",
      "source": [
        "print(f\"accuracy: {metrics_train['accuracy']:.3f}\")\n",
        "print(f\"precision_0: {metrics_train['False']['precision']:.3f}\")\n",
        "print(f\"precision_1: {metrics_train['True']['precision']:.3f}\")\n",
        "print(f\"recall_0: {metrics_train['False']['recall']:.3f}\")\n",
        "print(f\"recall_1: {metrics_train['True']['recall']:.3f}\")\n",
        "print(f\"f1_0: {metrics_train['False']['f1-score']:.3f}\")\n",
        "print(f\"f1_1: {metrics_train['True']['f1-score']:.3f}\")"
      ],
      "metadata": {
        "colab": {
          "base_uri": "https://localhost:8080/"
        },
        "id": "GHatPcDQdXLU",
        "outputId": "d3a28ec6-64fb-4a01-df06-118c151d5a83"
      },
      "id": "GHatPcDQdXLU",
      "execution_count": 40,
      "outputs": [
        {
          "output_type": "stream",
          "name": "stdout",
          "text": [
            "accuracy: 0.957\n",
            "precision_0: 0.974\n",
            "precision_1: 0.877\n",
            "recall_0: 0.973\n",
            "recall_1: 0.880\n",
            "f1_0: 0.974\n",
            "f1_1: 0.878\n"
          ]
        }
      ]
    },
    {
      "cell_type": "markdown",
      "source": [
        "testing results"
      ],
      "metadata": {
        "id": "rwca53KefpV1"
      },
      "id": "rwca53KefpV1"
    },
    {
      "cell_type": "code",
      "source": [
        "print(f\"accuracy: {metrics_test['accuracy']:.3f}\")\n",
        "print(f\"precision_0: {metrics_test['False']['precision']:.3f}\")\n",
        "print(f\"precision_1: {metrics_test['True']['precision']:.3f}\")\n",
        "print(f\"recall_0: {metrics_test['False']['recall']:.3f}\")\n",
        "print(f\"recall_1: {metrics_test['True']['recall']:.3f}\")\n",
        "print(f\"f1_0: {metrics_test['False']['f1-score']:.3f}\")\n",
        "print(f\"f1_1: {metrics_test['True']['f1-score']:.3f}\")"
      ],
      "metadata": {
        "colab": {
          "base_uri": "https://localhost:8080/"
        },
        "id": "dwaFxTCXdYWf",
        "outputId": "f6cc85e9-47b4-4d27-af6a-fc214faaf50d"
      },
      "id": "dwaFxTCXdYWf",
      "execution_count": 41,
      "outputs": [
        {
          "output_type": "stream",
          "name": "stdout",
          "text": [
            "accuracy: 0.823\n",
            "precision_0: 0.893\n",
            "precision_1: 0.508\n",
            "recall_0: 0.890\n",
            "recall_1: 0.514\n",
            "f1_0: 0.892\n",
            "f1_1: 0.511\n"
          ]
        }
      ]
    },
    {
      "cell_type": "markdown",
      "source": [
        "# Random_forest"
      ],
      "metadata": {
        "id": "2QDD1Vmym92E"
      },
      "id": "2QDD1Vmym92E"
    },
    {
      "cell_type": "markdown",
      "source": [
        "Loading libraries and the dataset"
      ],
      "metadata": {
        "id": "-g18WDaVnNZY"
      },
      "id": "-g18WDaVnNZY"
    },
    {
      "cell_type": "code",
      "source": [
        "# Loading libraries\n",
        "import pandas as pd\n",
        "from sklearn.model_selection import train_test_split\n",
        "from sklearn.ensemble import RandomForestClassifier\n",
        "from sklearn.ensemble import RandomForestClassifier\n",
        "from sklearn.model_selection import RandomizedSearchCV\n",
        "from sklearn.metrics import accuracy_score, precision_score, recall_score, f1_score\n",
        "from scipy.stats import randint"
      ],
      "metadata": {
        "id": "lkDSnPGFnLJX"
      },
      "id": "lkDSnPGFnLJX",
      "execution_count": 42,
      "outputs": []
    },
    {
      "cell_type": "markdown",
      "source": [
        "Training the model"
      ],
      "metadata": {
        "id": "I634U9CBnR10"
      },
      "id": "I634U9CBnR10"
    },
    {
      "cell_type": "code",
      "source": [
        "# Random forest definition\n",
        "rf = RandomForestClassifier(random_state=37)\n",
        "\n",
        "# Hyperparameters space\n",
        "param_dist = {\n",
        "    'n_estimators': randint(100, 500),\n",
        "    'max_depth': randint(1, 50),\n",
        "    'min_samples_split': randint(2, 50),\n",
        "    'min_samples_leaf': randint(2, 50),\n",
        "    'bootstrap': [True, False]\n",
        "}\n",
        "\n",
        "# RandomizedSearchCV\n",
        "random_search = RandomizedSearchCV(\n",
        "    rf,\n",
        "    param_distributions=param_dist,\n",
        "    n_iter=100,\n",
        "    cv=5,\n",
        "    scoring='f1',\n",
        "    random_state=37,\n",
        "    n_jobs=-1\n",
        ")\n",
        "\n",
        "# Fitting the model\n",
        "random_search.fit(X_train, y_train)\n",
        "\n",
        "# Final model\n",
        "model = random_search.best_estimator_\n",
        "\n",
        "# Printing best model specification\n",
        "print(random_search.best_params_)"
      ],
      "metadata": {
        "colab": {
          "base_uri": "https://localhost:8080/"
        },
        "id": "BCqKoQfZmwPq",
        "outputId": "ff4d254d-7b60-4553-ba36-d870c595fb13"
      },
      "id": "BCqKoQfZmwPq",
      "execution_count": 43,
      "outputs": [
        {
          "output_type": "stream",
          "name": "stdout",
          "text": [
            "{'bootstrap': False, 'max_depth': 17, 'min_samples_leaf': 2, 'min_samples_split': 26, 'n_estimators': 378}\n"
          ]
        }
      ]
    },
    {
      "cell_type": "markdown",
      "source": [
        "Calculating and displaying obtained results on train set"
      ],
      "metadata": {
        "id": "SkYb2StgnTFS"
      },
      "id": "SkYb2StgnTFS"
    },
    {
      "cell_type": "code",
      "source": [
        "# Prediction of train set\n",
        "y_pred = model.predict(X_train)\n",
        "\n",
        "# Calculation of accuracy measures\n",
        "accuracy = accuracy_score(y_train, y_pred)\n",
        "precision_0 = precision_score(y_train, y_pred, pos_label=0)\n",
        "precision_1 = precision_score(y_train, y_pred, pos_label=1)\n",
        "recall_0 = recall_score(y_train, y_pred, pos_label=0)\n",
        "recall_1 = recall_score(y_train, y_pred, pos_label=1)\n",
        "f1_0 = f1_score(y_train, y_pred, pos_label=0)\n",
        "f1_1 = f1_score(y_train, y_pred, pos_label=1)\n",
        "\n",
        "# Displaying the results\n",
        "print(f\"accuracy   : {accuracy:.4f}\")\n",
        "print(f\"precision_0: {precision_0:.4f}\")\n",
        "print(f\"precision_1: {precision_1:.4f}\")\n",
        "print(f\"recall_0   : {recall_0:.4f}\")\n",
        "print(f\"recall_1   : {recall_1:.4f}\")\n",
        "print(f\"f1_0       : {f1_0:.4f}\")\n",
        "print(f\"f1_1       : {f1_1:.4f}\")"
      ],
      "metadata": {
        "colab": {
          "base_uri": "https://localhost:8080/"
        },
        "id": "n421478jnVz-",
        "outputId": "043bc6a9-da66-4ddf-cd2a-8dd7242a4848"
      },
      "id": "n421478jnVz-",
      "execution_count": 44,
      "outputs": [
        {
          "output_type": "stream",
          "name": "stdout",
          "text": [
            "accuracy   : 0.9752\n",
            "precision_0: 0.9856\n",
            "precision_1: 0.9275\n",
            "recall_0   : 0.9843\n",
            "recall_1   : 0.9330\n",
            "f1_0       : 0.9849\n",
            "f1_1       : 0.9302\n"
          ]
        }
      ]
    },
    {
      "cell_type": "markdown",
      "source": [
        "Calculating and displaying obtained results on test set"
      ],
      "metadata": {
        "id": "7_dHU4wfnX2W"
      },
      "id": "7_dHU4wfnX2W"
    },
    {
      "cell_type": "code",
      "source": [
        "# Prediction of test set\n",
        "y_pred = model.predict(X_test)\n",
        "\n",
        "# Calculation of accuracy measures\n",
        "accuracy = accuracy_score(y_test, y_pred)\n",
        "precision_0 = precision_score(y_test, y_pred, pos_label=0)\n",
        "precision_1 = precision_score(y_test, y_pred, pos_label=1)\n",
        "recall_0 = recall_score(y_test, y_pred, pos_label=0)\n",
        "recall_1 = recall_score(y_test, y_pred, pos_label=1)\n",
        "f1_0 = f1_score(y_test, y_pred, pos_label=0)\n",
        "f1_1 = f1_score(y_test, y_pred, pos_label=1)\n",
        "\n",
        "# Displaying the results\n",
        "print(f\"accuracy   : {accuracy:.4f}\")\n",
        "print(f\"precision_0: {precision_0:.4f}\")\n",
        "print(f\"precision_1: {precision_1:.4f}\")\n",
        "print(f\"recall_0   : {recall_0:.4f}\")\n",
        "print(f\"recall_1   : {recall_1:.4f}\")\n",
        "print(f\"f1_0       : {f1_0:.4f}\")\n",
        "print(f\"f1_1       : {f1_1:.4f}\")"
      ],
      "metadata": {
        "colab": {
          "base_uri": "https://localhost:8080/"
        },
        "id": "dVwfZBxEnZqV",
        "outputId": "1708b4d1-498f-4c5e-d45f-5068888a49d4"
      },
      "id": "dVwfZBxEnZqV",
      "execution_count": 45,
      "outputs": [
        {
          "output_type": "stream",
          "name": "stdout",
          "text": [
            "accuracy   : 0.8193\n",
            "precision_0: 0.8917\n",
            "precision_1: 0.4991\n",
            "recall_0   : 0.8873\n",
            "recall_1   : 0.5104\n",
            "f1_0       : 0.8895\n",
            "f1_1       : 0.5046\n"
          ]
        }
      ]
    },
    {
      "cell_type": "markdown",
      "source": [
        "# Logistic_regression"
      ],
      "metadata": {
        "id": "yCztVcBMFOLo"
      },
      "id": "yCztVcBMFOLo"
    },
    {
      "cell_type": "code",
      "source": [
        "# Loading libraries\n",
        "import pandas as pd\n",
        "from sklearn.model_selection import train_test_split\n",
        "from sklearn.linear_model import LogisticRegression\n",
        "from sklearn.metrics import accuracy_score, precision_score, recall_score, f1_score"
      ],
      "metadata": {
        "id": "BtzLyIcpFZLT"
      },
      "id": "BtzLyIcpFZLT",
      "execution_count": 46,
      "outputs": []
    },
    {
      "cell_type": "code",
      "source": [
        "# Training the model\n",
        "model = LogisticRegression(max_iter=1000)\n",
        "model.fit(X_train, y_train)"
      ],
      "metadata": {
        "colab": {
          "base_uri": "https://localhost:8080/",
          "height": 80
        },
        "id": "sVsphXxZFSeO",
        "outputId": "4daf1fd9-7ac9-49be-b921-2e8e55fea314"
      },
      "id": "sVsphXxZFSeO",
      "execution_count": 47,
      "outputs": [
        {
          "output_type": "execute_result",
          "data": {
            "text/plain": [
              "LogisticRegression(max_iter=1000)"
            ],
            "text/html": [
              "<style>#sk-container-id-4 {\n",
              "  /* Definition of color scheme common for light and dark mode */\n",
              "  --sklearn-color-text: #000;\n",
              "  --sklearn-color-text-muted: #666;\n",
              "  --sklearn-color-line: gray;\n",
              "  /* Definition of color scheme for unfitted estimators */\n",
              "  --sklearn-color-unfitted-level-0: #fff5e6;\n",
              "  --sklearn-color-unfitted-level-1: #f6e4d2;\n",
              "  --sklearn-color-unfitted-level-2: #ffe0b3;\n",
              "  --sklearn-color-unfitted-level-3: chocolate;\n",
              "  /* Definition of color scheme for fitted estimators */\n",
              "  --sklearn-color-fitted-level-0: #f0f8ff;\n",
              "  --sklearn-color-fitted-level-1: #d4ebff;\n",
              "  --sklearn-color-fitted-level-2: #b3dbfd;\n",
              "  --sklearn-color-fitted-level-3: cornflowerblue;\n",
              "\n",
              "  /* Specific color for light theme */\n",
              "  --sklearn-color-text-on-default-background: var(--sg-text-color, var(--theme-code-foreground, var(--jp-content-font-color1, black)));\n",
              "  --sklearn-color-background: var(--sg-background-color, var(--theme-background, var(--jp-layout-color0, white)));\n",
              "  --sklearn-color-border-box: var(--sg-text-color, var(--theme-code-foreground, var(--jp-content-font-color1, black)));\n",
              "  --sklearn-color-icon: #696969;\n",
              "\n",
              "  @media (prefers-color-scheme: dark) {\n",
              "    /* Redefinition of color scheme for dark theme */\n",
              "    --sklearn-color-text-on-default-background: var(--sg-text-color, var(--theme-code-foreground, var(--jp-content-font-color1, white)));\n",
              "    --sklearn-color-background: var(--sg-background-color, var(--theme-background, var(--jp-layout-color0, #111)));\n",
              "    --sklearn-color-border-box: var(--sg-text-color, var(--theme-code-foreground, var(--jp-content-font-color1, white)));\n",
              "    --sklearn-color-icon: #878787;\n",
              "  }\n",
              "}\n",
              "\n",
              "#sk-container-id-4 {\n",
              "  color: var(--sklearn-color-text);\n",
              "}\n",
              "\n",
              "#sk-container-id-4 pre {\n",
              "  padding: 0;\n",
              "}\n",
              "\n",
              "#sk-container-id-4 input.sk-hidden--visually {\n",
              "  border: 0;\n",
              "  clip: rect(1px 1px 1px 1px);\n",
              "  clip: rect(1px, 1px, 1px, 1px);\n",
              "  height: 1px;\n",
              "  margin: -1px;\n",
              "  overflow: hidden;\n",
              "  padding: 0;\n",
              "  position: absolute;\n",
              "  width: 1px;\n",
              "}\n",
              "\n",
              "#sk-container-id-4 div.sk-dashed-wrapped {\n",
              "  border: 1px dashed var(--sklearn-color-line);\n",
              "  margin: 0 0.4em 0.5em 0.4em;\n",
              "  box-sizing: border-box;\n",
              "  padding-bottom: 0.4em;\n",
              "  background-color: var(--sklearn-color-background);\n",
              "}\n",
              "\n",
              "#sk-container-id-4 div.sk-container {\n",
              "  /* jupyter's `normalize.less` sets `[hidden] { display: none; }`\n",
              "     but bootstrap.min.css set `[hidden] { display: none !important; }`\n",
              "     so we also need the `!important` here to be able to override the\n",
              "     default hidden behavior on the sphinx rendered scikit-learn.org.\n",
              "     See: https://github.com/scikit-learn/scikit-learn/issues/21755 */\n",
              "  display: inline-block !important;\n",
              "  position: relative;\n",
              "}\n",
              "\n",
              "#sk-container-id-4 div.sk-text-repr-fallback {\n",
              "  display: none;\n",
              "}\n",
              "\n",
              "div.sk-parallel-item,\n",
              "div.sk-serial,\n",
              "div.sk-item {\n",
              "  /* draw centered vertical line to link estimators */\n",
              "  background-image: linear-gradient(var(--sklearn-color-text-on-default-background), var(--sklearn-color-text-on-default-background));\n",
              "  background-size: 2px 100%;\n",
              "  background-repeat: no-repeat;\n",
              "  background-position: center center;\n",
              "}\n",
              "\n",
              "/* Parallel-specific style estimator block */\n",
              "\n",
              "#sk-container-id-4 div.sk-parallel-item::after {\n",
              "  content: \"\";\n",
              "  width: 100%;\n",
              "  border-bottom: 2px solid var(--sklearn-color-text-on-default-background);\n",
              "  flex-grow: 1;\n",
              "}\n",
              "\n",
              "#sk-container-id-4 div.sk-parallel {\n",
              "  display: flex;\n",
              "  align-items: stretch;\n",
              "  justify-content: center;\n",
              "  background-color: var(--sklearn-color-background);\n",
              "  position: relative;\n",
              "}\n",
              "\n",
              "#sk-container-id-4 div.sk-parallel-item {\n",
              "  display: flex;\n",
              "  flex-direction: column;\n",
              "}\n",
              "\n",
              "#sk-container-id-4 div.sk-parallel-item:first-child::after {\n",
              "  align-self: flex-end;\n",
              "  width: 50%;\n",
              "}\n",
              "\n",
              "#sk-container-id-4 div.sk-parallel-item:last-child::after {\n",
              "  align-self: flex-start;\n",
              "  width: 50%;\n",
              "}\n",
              "\n",
              "#sk-container-id-4 div.sk-parallel-item:only-child::after {\n",
              "  width: 0;\n",
              "}\n",
              "\n",
              "/* Serial-specific style estimator block */\n",
              "\n",
              "#sk-container-id-4 div.sk-serial {\n",
              "  display: flex;\n",
              "  flex-direction: column;\n",
              "  align-items: center;\n",
              "  background-color: var(--sklearn-color-background);\n",
              "  padding-right: 1em;\n",
              "  padding-left: 1em;\n",
              "}\n",
              "\n",
              "\n",
              "/* Toggleable style: style used for estimator/Pipeline/ColumnTransformer box that is\n",
              "clickable and can be expanded/collapsed.\n",
              "- Pipeline and ColumnTransformer use this feature and define the default style\n",
              "- Estimators will overwrite some part of the style using the `sk-estimator` class\n",
              "*/\n",
              "\n",
              "/* Pipeline and ColumnTransformer style (default) */\n",
              "\n",
              "#sk-container-id-4 div.sk-toggleable {\n",
              "  /* Default theme specific background. It is overwritten whether we have a\n",
              "  specific estimator or a Pipeline/ColumnTransformer */\n",
              "  background-color: var(--sklearn-color-background);\n",
              "}\n",
              "\n",
              "/* Toggleable label */\n",
              "#sk-container-id-4 label.sk-toggleable__label {\n",
              "  cursor: pointer;\n",
              "  display: flex;\n",
              "  width: 100%;\n",
              "  margin-bottom: 0;\n",
              "  padding: 0.5em;\n",
              "  box-sizing: border-box;\n",
              "  text-align: center;\n",
              "  align-items: start;\n",
              "  justify-content: space-between;\n",
              "  gap: 0.5em;\n",
              "}\n",
              "\n",
              "#sk-container-id-4 label.sk-toggleable__label .caption {\n",
              "  font-size: 0.6rem;\n",
              "  font-weight: lighter;\n",
              "  color: var(--sklearn-color-text-muted);\n",
              "}\n",
              "\n",
              "#sk-container-id-4 label.sk-toggleable__label-arrow:before {\n",
              "  /* Arrow on the left of the label */\n",
              "  content: \"▸\";\n",
              "  float: left;\n",
              "  margin-right: 0.25em;\n",
              "  color: var(--sklearn-color-icon);\n",
              "}\n",
              "\n",
              "#sk-container-id-4 label.sk-toggleable__label-arrow:hover:before {\n",
              "  color: var(--sklearn-color-text);\n",
              "}\n",
              "\n",
              "/* Toggleable content - dropdown */\n",
              "\n",
              "#sk-container-id-4 div.sk-toggleable__content {\n",
              "  max-height: 0;\n",
              "  max-width: 0;\n",
              "  overflow: hidden;\n",
              "  text-align: left;\n",
              "  /* unfitted */\n",
              "  background-color: var(--sklearn-color-unfitted-level-0);\n",
              "}\n",
              "\n",
              "#sk-container-id-4 div.sk-toggleable__content.fitted {\n",
              "  /* fitted */\n",
              "  background-color: var(--sklearn-color-fitted-level-0);\n",
              "}\n",
              "\n",
              "#sk-container-id-4 div.sk-toggleable__content pre {\n",
              "  margin: 0.2em;\n",
              "  border-radius: 0.25em;\n",
              "  color: var(--sklearn-color-text);\n",
              "  /* unfitted */\n",
              "  background-color: var(--sklearn-color-unfitted-level-0);\n",
              "}\n",
              "\n",
              "#sk-container-id-4 div.sk-toggleable__content.fitted pre {\n",
              "  /* unfitted */\n",
              "  background-color: var(--sklearn-color-fitted-level-0);\n",
              "}\n",
              "\n",
              "#sk-container-id-4 input.sk-toggleable__control:checked~div.sk-toggleable__content {\n",
              "  /* Expand drop-down */\n",
              "  max-height: 200px;\n",
              "  max-width: 100%;\n",
              "  overflow: auto;\n",
              "}\n",
              "\n",
              "#sk-container-id-4 input.sk-toggleable__control:checked~label.sk-toggleable__label-arrow:before {\n",
              "  content: \"▾\";\n",
              "}\n",
              "\n",
              "/* Pipeline/ColumnTransformer-specific style */\n",
              "\n",
              "#sk-container-id-4 div.sk-label input.sk-toggleable__control:checked~label.sk-toggleable__label {\n",
              "  color: var(--sklearn-color-text);\n",
              "  background-color: var(--sklearn-color-unfitted-level-2);\n",
              "}\n",
              "\n",
              "#sk-container-id-4 div.sk-label.fitted input.sk-toggleable__control:checked~label.sk-toggleable__label {\n",
              "  background-color: var(--sklearn-color-fitted-level-2);\n",
              "}\n",
              "\n",
              "/* Estimator-specific style */\n",
              "\n",
              "/* Colorize estimator box */\n",
              "#sk-container-id-4 div.sk-estimator input.sk-toggleable__control:checked~label.sk-toggleable__label {\n",
              "  /* unfitted */\n",
              "  background-color: var(--sklearn-color-unfitted-level-2);\n",
              "}\n",
              "\n",
              "#sk-container-id-4 div.sk-estimator.fitted input.sk-toggleable__control:checked~label.sk-toggleable__label {\n",
              "  /* fitted */\n",
              "  background-color: var(--sklearn-color-fitted-level-2);\n",
              "}\n",
              "\n",
              "#sk-container-id-4 div.sk-label label.sk-toggleable__label,\n",
              "#sk-container-id-4 div.sk-label label {\n",
              "  /* The background is the default theme color */\n",
              "  color: var(--sklearn-color-text-on-default-background);\n",
              "}\n",
              "\n",
              "/* On hover, darken the color of the background */\n",
              "#sk-container-id-4 div.sk-label:hover label.sk-toggleable__label {\n",
              "  color: var(--sklearn-color-text);\n",
              "  background-color: var(--sklearn-color-unfitted-level-2);\n",
              "}\n",
              "\n",
              "/* Label box, darken color on hover, fitted */\n",
              "#sk-container-id-4 div.sk-label.fitted:hover label.sk-toggleable__label.fitted {\n",
              "  color: var(--sklearn-color-text);\n",
              "  background-color: var(--sklearn-color-fitted-level-2);\n",
              "}\n",
              "\n",
              "/* Estimator label */\n",
              "\n",
              "#sk-container-id-4 div.sk-label label {\n",
              "  font-family: monospace;\n",
              "  font-weight: bold;\n",
              "  display: inline-block;\n",
              "  line-height: 1.2em;\n",
              "}\n",
              "\n",
              "#sk-container-id-4 div.sk-label-container {\n",
              "  text-align: center;\n",
              "}\n",
              "\n",
              "/* Estimator-specific */\n",
              "#sk-container-id-4 div.sk-estimator {\n",
              "  font-family: monospace;\n",
              "  border: 1px dotted var(--sklearn-color-border-box);\n",
              "  border-radius: 0.25em;\n",
              "  box-sizing: border-box;\n",
              "  margin-bottom: 0.5em;\n",
              "  /* unfitted */\n",
              "  background-color: var(--sklearn-color-unfitted-level-0);\n",
              "}\n",
              "\n",
              "#sk-container-id-4 div.sk-estimator.fitted {\n",
              "  /* fitted */\n",
              "  background-color: var(--sklearn-color-fitted-level-0);\n",
              "}\n",
              "\n",
              "/* on hover */\n",
              "#sk-container-id-4 div.sk-estimator:hover {\n",
              "  /* unfitted */\n",
              "  background-color: var(--sklearn-color-unfitted-level-2);\n",
              "}\n",
              "\n",
              "#sk-container-id-4 div.sk-estimator.fitted:hover {\n",
              "  /* fitted */\n",
              "  background-color: var(--sklearn-color-fitted-level-2);\n",
              "}\n",
              "\n",
              "/* Specification for estimator info (e.g. \"i\" and \"?\") */\n",
              "\n",
              "/* Common style for \"i\" and \"?\" */\n",
              "\n",
              ".sk-estimator-doc-link,\n",
              "a:link.sk-estimator-doc-link,\n",
              "a:visited.sk-estimator-doc-link {\n",
              "  float: right;\n",
              "  font-size: smaller;\n",
              "  line-height: 1em;\n",
              "  font-family: monospace;\n",
              "  background-color: var(--sklearn-color-background);\n",
              "  border-radius: 1em;\n",
              "  height: 1em;\n",
              "  width: 1em;\n",
              "  text-decoration: none !important;\n",
              "  margin-left: 0.5em;\n",
              "  text-align: center;\n",
              "  /* unfitted */\n",
              "  border: var(--sklearn-color-unfitted-level-1) 1pt solid;\n",
              "  color: var(--sklearn-color-unfitted-level-1);\n",
              "}\n",
              "\n",
              ".sk-estimator-doc-link.fitted,\n",
              "a:link.sk-estimator-doc-link.fitted,\n",
              "a:visited.sk-estimator-doc-link.fitted {\n",
              "  /* fitted */\n",
              "  border: var(--sklearn-color-fitted-level-1) 1pt solid;\n",
              "  color: var(--sklearn-color-fitted-level-1);\n",
              "}\n",
              "\n",
              "/* On hover */\n",
              "div.sk-estimator:hover .sk-estimator-doc-link:hover,\n",
              ".sk-estimator-doc-link:hover,\n",
              "div.sk-label-container:hover .sk-estimator-doc-link:hover,\n",
              ".sk-estimator-doc-link:hover {\n",
              "  /* unfitted */\n",
              "  background-color: var(--sklearn-color-unfitted-level-3);\n",
              "  color: var(--sklearn-color-background);\n",
              "  text-decoration: none;\n",
              "}\n",
              "\n",
              "div.sk-estimator.fitted:hover .sk-estimator-doc-link.fitted:hover,\n",
              ".sk-estimator-doc-link.fitted:hover,\n",
              "div.sk-label-container:hover .sk-estimator-doc-link.fitted:hover,\n",
              ".sk-estimator-doc-link.fitted:hover {\n",
              "  /* fitted */\n",
              "  background-color: var(--sklearn-color-fitted-level-3);\n",
              "  color: var(--sklearn-color-background);\n",
              "  text-decoration: none;\n",
              "}\n",
              "\n",
              "/* Span, style for the box shown on hovering the info icon */\n",
              ".sk-estimator-doc-link span {\n",
              "  display: none;\n",
              "  z-index: 9999;\n",
              "  position: relative;\n",
              "  font-weight: normal;\n",
              "  right: .2ex;\n",
              "  padding: .5ex;\n",
              "  margin: .5ex;\n",
              "  width: min-content;\n",
              "  min-width: 20ex;\n",
              "  max-width: 50ex;\n",
              "  color: var(--sklearn-color-text);\n",
              "  box-shadow: 2pt 2pt 4pt #999;\n",
              "  /* unfitted */\n",
              "  background: var(--sklearn-color-unfitted-level-0);\n",
              "  border: .5pt solid var(--sklearn-color-unfitted-level-3);\n",
              "}\n",
              "\n",
              ".sk-estimator-doc-link.fitted span {\n",
              "  /* fitted */\n",
              "  background: var(--sklearn-color-fitted-level-0);\n",
              "  border: var(--sklearn-color-fitted-level-3);\n",
              "}\n",
              "\n",
              ".sk-estimator-doc-link:hover span {\n",
              "  display: block;\n",
              "}\n",
              "\n",
              "/* \"?\"-specific style due to the `<a>` HTML tag */\n",
              "\n",
              "#sk-container-id-4 a.estimator_doc_link {\n",
              "  float: right;\n",
              "  font-size: 1rem;\n",
              "  line-height: 1em;\n",
              "  font-family: monospace;\n",
              "  background-color: var(--sklearn-color-background);\n",
              "  border-radius: 1rem;\n",
              "  height: 1rem;\n",
              "  width: 1rem;\n",
              "  text-decoration: none;\n",
              "  /* unfitted */\n",
              "  color: var(--sklearn-color-unfitted-level-1);\n",
              "  border: var(--sklearn-color-unfitted-level-1) 1pt solid;\n",
              "}\n",
              "\n",
              "#sk-container-id-4 a.estimator_doc_link.fitted {\n",
              "  /* fitted */\n",
              "  border: var(--sklearn-color-fitted-level-1) 1pt solid;\n",
              "  color: var(--sklearn-color-fitted-level-1);\n",
              "}\n",
              "\n",
              "/* On hover */\n",
              "#sk-container-id-4 a.estimator_doc_link:hover {\n",
              "  /* unfitted */\n",
              "  background-color: var(--sklearn-color-unfitted-level-3);\n",
              "  color: var(--sklearn-color-background);\n",
              "  text-decoration: none;\n",
              "}\n",
              "\n",
              "#sk-container-id-4 a.estimator_doc_link.fitted:hover {\n",
              "  /* fitted */\n",
              "  background-color: var(--sklearn-color-fitted-level-3);\n",
              "}\n",
              "</style><div id=\"sk-container-id-4\" class=\"sk-top-container\"><div class=\"sk-text-repr-fallback\"><pre>LogisticRegression(max_iter=1000)</pre></div><div class=\"sk-container\" hidden><div class=\"sk-item\"><div class=\"sk-estimator fitted sk-toggleable\"><input class=\"sk-toggleable__control sk-hidden--visually\" id=\"sk-estimator-id-4\" type=\"checkbox\" checked><label for=\"sk-estimator-id-4\" class=\"sk-toggleable__label fitted sk-toggleable__label-arrow\"><div><div>LogisticRegression</div></div><div><a class=\"sk-estimator-doc-link fitted\" rel=\"noreferrer\" target=\"_blank\" href=\"https://scikit-learn.org/1.6/modules/generated/sklearn.linear_model.LogisticRegression.html\">?<span>Documentation for LogisticRegression</span></a><span class=\"sk-estimator-doc-link fitted\">i<span>Fitted</span></span></div></label><div class=\"sk-toggleable__content fitted\"><pre>LogisticRegression(max_iter=1000)</pre></div> </div></div></div></div>"
            ]
          },
          "metadata": {},
          "execution_count": 47
        }
      ]
    },
    {
      "cell_type": "markdown",
      "source": [
        "**In a Jupyter environment, please rerun this cell to show the HTML representation or trust the notebook.**         \n",
        "**On GitHub, the HTML representation is unable to render, please try loading this page with nbviewer.org.**"
      ],
      "metadata": {
        "id": "6-JAWOgcF1Dk"
      },
      "id": "6-JAWOgcF1Dk"
    },
    {
      "cell_type": "markdown",
      "source": [
        "Calculating and displaying obtained results on train set"
      ],
      "metadata": {
        "id": "6XkX91sMFjJr"
      },
      "id": "6XkX91sMFjJr"
    },
    {
      "cell_type": "code",
      "source": [
        "# Prediction of train set\n",
        "y_pred = model.predict(X_train)\n",
        "\n",
        "# Calculation of accuracy measures\n",
        "accuracy = accuracy_score(y_train, y_pred)\n",
        "precision_0 = precision_score(y_train, y_pred, pos_label=0)\n",
        "precision_1 = precision_score(y_train, y_pred, pos_label=1)\n",
        "recall_0 = recall_score(y_train, y_pred, pos_label=0)\n",
        "recall_1 = recall_score(y_train, y_pred, pos_label=1)\n",
        "f1_0 = f1_score(y_train, y_pred, pos_label=0)\n",
        "f1_1 = f1_score(y_train, y_pred, pos_label=1)\n",
        "\n",
        "# Displaying the results\n",
        "print(f\"accuracy   : {accuracy:.4f}\")\n",
        "print(f\"precision_0: {precision_0:.4f}\")\n",
        "print(f\"precision_1: {precision_1:.4f}\")\n",
        "print(f\"recall_0   : {recall_0:.4f}\")\n",
        "print(f\"recall_1   : {recall_1:.4f}\")\n",
        "print(f\"f1_0       : {f1_0:.4f}\")\n",
        "print(f\"f1_1       : {f1_1:.4f}\")"
      ],
      "metadata": {
        "colab": {
          "base_uri": "https://localhost:8080/"
        },
        "id": "3axc9qtHFiv4",
        "outputId": "f34abf12-455e-4999-a71e-2a82dd4e2aa2"
      },
      "id": "3axc9qtHFiv4",
      "execution_count": 48,
      "outputs": [
        {
          "output_type": "stream",
          "name": "stdout",
          "text": [
            "accuracy   : 0.8313\n",
            "precision_0: 0.9040\n",
            "precision_1: 0.5220\n",
            "recall_0   : 0.8895\n",
            "recall_1   : 0.5608\n",
            "f1_0       : 0.8967\n",
            "f1_1       : 0.5407\n"
          ]
        }
      ]
    },
    {
      "cell_type": "markdown",
      "source": [
        "Calculating and displaying obtained results on test set"
      ],
      "metadata": {
        "id": "uOPQendYFnXP"
      },
      "id": "uOPQendYFnXP"
    },
    {
      "cell_type": "code",
      "source": [
        "# Prediction of test set\n",
        "y_pred = model.predict(X_test)\n",
        "\n",
        "# Calculation of accuracy measures\n",
        "accuracy = accuracy_score(y_test, y_pred)\n",
        "precision_0 = precision_score(y_test, y_pred, pos_label=0)\n",
        "precision_1 = precision_score(y_test, y_pred, pos_label=1)\n",
        "recall_0 = recall_score(y_test, y_pred, pos_label=0)\n",
        "recall_1 = recall_score(y_test, y_pred, pos_label=1)\n",
        "f1_0 = f1_score(y_test, y_pred, pos_label=0)\n",
        "f1_1 = f1_score(y_test, y_pred, pos_label=1)\n",
        "\n",
        "# Displaying the results\n",
        "print(f\"accuracy   : {accuracy:.4f}\")\n",
        "print(f\"precision_0: {precision_0:.4f}\")\n",
        "print(f\"precision_1: {precision_1:.4f}\")\n",
        "print(f\"recall_0   : {recall_0:.4f}\")\n",
        "print(f\"recall_1   : {recall_1:.4f}\")\n",
        "print(f\"f1_0       : {f1_0:.4f}\")\n",
        "print(f\"f1_1       : {f1_1:.4f}\")"
      ],
      "metadata": {
        "colab": {
          "base_uri": "https://localhost:8080/"
        },
        "id": "wYF98E7mFnzP",
        "outputId": "aa6a87e0-3016-4d20-80d9-2ded120c365d"
      },
      "id": "wYF98E7mFnzP",
      "execution_count": 49,
      "outputs": [
        {
          "output_type": "stream",
          "name": "stdout",
          "text": [
            "accuracy   : 0.8229\n",
            "precision_0: 0.8978\n",
            "precision_1: 0.5085\n",
            "recall_0   : 0.8847\n",
            "recall_1   : 0.5421\n",
            "f1_0       : 0.8912\n",
            "f1_1       : 0.5248\n"
          ]
        }
      ]
    },
    {
      "cell_type": "markdown",
      "source": [
        "# Training and Testing Results Comparison"
      ],
      "metadata": {
        "id": "EI1NDZSiHk6r"
      },
      "id": "EI1NDZSiHk6r"
    },
    {
      "cell_type": "markdown",
      "source": [
        "![accuracy of train data.png](data:image/png;base64,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)"
      ],
      "metadata": {
        "id": "97B8JZ85HUaf"
      },
      "id": "97B8JZ85HUaf"
    },
    {
      "cell_type": "markdown",
      "source": [
        "# Training Performance Comparison\n",
        "\n",
        "| Classifier          | Accuracy | Precision (Class 0) | Precision (Class 1) | Recall (Class 0) | Recall (Class 1) | F1 (Class 0) | F1 (Class 1) |\n",
        "|---------------------|----------|---------------------|---------------------|------------------|------------------|--------------|--------------|\n",
        "| Logistic Regression | 0.831    | 0.904               | 0.522               | 0.890            | 0.561            | 0.897        | 0.541        |\n",
        "| Random Forest       | 0.975    | 0.986               | 0.928               | 0.984            | 0.933            | 0.985        | 0.930        |\n",
        "| XGBoost             | 0.957    | 0.974               | 0.877               | 0.973            | 0.880            | 0.974        | 0.878        |\n",
        "| AdaBoost            | 0.829    | 0.952               | 0.510               | 0.834            | 0.804            | 0.889        | 0.625        |"
      ],
      "metadata": {
        "id": "F0GgnXpVULL_"
      },
      "id": "F0GgnXpVULL_"
    },
    {
      "cell_type": "markdown",
      "source": [
        "![accuracy of test data.png](data:image/png;base64,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)"
      ],
      "metadata": {
        "id": "gJq4q012GIae"
      },
      "id": "gJq4q012GIae"
    },
    {
      "cell_type": "markdown",
      "source": [
        "# Testing Performance Comparison\n",
        "\n",
        "| Classifier          | Accuracy | Precision (Class 0) | Precision (Class 1) | Recall (Class 0) | Recall (Class 1) | F1 (Class 0) | F1 (Class 1) |\n",
        "|---------------------|----------|---------------------|---------------------|------------------|------------------|--------------|--------------|\n",
        "| AdaBoost            | 0.824    | 0.946               | 0.507               | 0.832            | 0.784            | 0.886        | 0.616        |\n",
        "| XGBoost             | 0.823    | 0.893               | 0.508               | 0.890            | 0.514            | 0.892        | 0.511        |\n",
        "| Random Forest       | 0.819    | 0.892               | 0.499               | 0.887            | 0.510            | 0.890        | 0.505        |\n",
        "| Logistic Regression | 0.823    | 0.898               | 0.509               | 0.885            | 0.542            | 0.891        | 0.525        |"
      ],
      "metadata": {
        "id": "8oyiE3H_UVuQ"
      },
      "id": "8oyiE3H_UVuQ"
    },
    {
      "cell_type": "markdown",
      "source": [
        "**Results from research paper and our attempt vary greatly, this is caused by lack of precise information about how the dataset was prepared and randomstate for data split**"
      ],
      "metadata": {
        "id": "FunUrrREVsRM"
      },
      "id": "FunUrrREVsRM"
    }
  ],
  "metadata": {
    "kernelspec": {
      "display_name": "Python 3",
      "name": "python3"
    },
    "language_info": {
      "codemirror_mode": {
        "name": "ipython",
        "version": 3
      },
      "file_extension": ".py",
      "mimetype": "text/x-python",
      "name": "python",
      "nbconvert_exporter": "python",
      "pygments_lexer": "ipython3",
      "version": "3.12.1"
    },
    "colab": {
      "provenance": [],
      "toc_visible": true,
      "gpuType": "T4"
    },
    "accelerator": "GPU"
  },
  "nbformat": 4,
  "nbformat_minor": 5
}
