{
 "cells": [
  {
   "cell_type": "markdown",
   "id": "a5151b6a",
   "metadata": {},
   "source": [
    "Load packages"
   ]
  },
  {
   "cell_type": "code",
   "execution_count": 2,
   "id": "abdc5e01",
   "metadata": {},
   "outputs": [],
   "source": [
    "import pandas as pd\n",
    "from sklearn.model_selection import train_test_split\n",
    "from sklearn.ensemble import AdaBoostClassifier\n",
    "from sklearn.metrics import classification_report"
   ]
  },
  {
   "cell_type": "markdown",
   "id": "24d69865",
   "metadata": {},
   "source": [
    "Load dataset"
   ]
  },
  {
   "cell_type": "code",
   "execution_count": 4,
   "id": "6daeca8d",
   "metadata": {},
   "outputs": [],
   "source": [
    "df = pd.read_csv(\"../credit_risk_dataset_cleaned.csv\")"
   ]
  },
  {
   "cell_type": "markdown",
   "id": "4b3146f5",
   "metadata": {},
   "source": [
    "Split dataset into train and test, random state not specified (using 42 as it has been the most common choice in my experience)"
   ]
  },
  {
   "cell_type": "code",
   "execution_count": 10,
   "id": "77e9e791",
   "metadata": {},
   "outputs": [],
   "source": [
    "df_split = pd.get_dummies(df, drop_first=True)\n",
    "X = df_split.drop(\"cb_person_default_on_file_Y\", axis=1)\n",
    "y = df_split[\"cb_person_default_on_file_Y\"] \n",
    "\n",
    "X_train, X_test, y_train, y_test = train_test_split(X, y, test_size=0.3, random_state=42)"
   ]
  },
  {
   "cell_type": "markdown",
   "id": "1f812990",
   "metadata": {},
   "source": [
    "AdaBoost model"
   ]
  },
  {
   "cell_type": "code",
   "execution_count": 11,
   "id": "69c707ad",
   "metadata": {},
   "outputs": [
    {
     "name": "stderr",
     "output_type": "stream",
     "text": [
      "c:\\Users\\Mikołaj\\AppData\\Local\\Programs\\Python\\Python312\\Lib\\site-packages\\sklearn\\ensemble\\_weight_boosting.py:527: FutureWarning: The SAMME.R algorithm (the default) is deprecated and will be removed in 1.6. Use the SAMME algorithm to circumvent this warning.\n",
      "  warnings.warn(\n"
     ]
    }
   ],
   "source": [
    "model = AdaBoostClassifier(random_state=42)\n",
    "model.fit(X_train, y_train)\n",
    "\n",
    "train_pred = model.predict(X_train)\n",
    "test_pred = model.predict(X_test)"
   ]
  },
  {
   "cell_type": "markdown",
   "id": "3a827420",
   "metadata": {},
   "source": [
    "Outputting required metrics"
   ]
  },
  {
   "cell_type": "code",
   "execution_count": 39,
   "id": "6c9ed8a1",
   "metadata": {},
   "outputs": [],
   "source": [
    "metrics_train = classification_report(y_train, train_pred, output_dict=True)\n",
    "metrics_test = classification_report(y_test, test_pred, output_dict=True)"
   ]
  },
  {
   "cell_type": "code",
   "execution_count": 40,
   "id": "60afb8ad",
   "metadata": {},
   "outputs": [
    {
     "name": "stdout",
     "output_type": "stream",
     "text": [
      "{'False': {'precision': 0.892431950490376, 'recall': 0.9118482396441777, 'f1-score': 0.9020356234096693, 'support': 18661.0}, 'True': {'precision': 0.5411436541143654, 'recall': 0.48609371084941116, 'f1-score': 0.5121436114044351, 'support': 3991.0}, 'accuracy': 0.8368355995055624, 'macro avg': {'precision': 0.7167878023023707, 'recall': 0.6989709752467944, 'f1-score': 0.7070896174070522, 'support': 22652.0}, 'weighted avg': {'precision': 0.8305393321415919, 'recall': 0.8368355995055624, 'f1-score': 0.8333415116353055, 'support': 22652.0}}\n"
     ]
    }
   ],
   "source": [
    "print(metrics_train)"
   ]
  },
  {
   "cell_type": "markdown",
   "id": "3ae06e2a",
   "metadata": {},
   "source": [
    "Train subset"
   ]
  },
  {
   "cell_type": "code",
   "execution_count": 41,
   "id": "06892436",
   "metadata": {},
   "outputs": [
    {
     "name": "stdout",
     "output_type": "stream",
     "text": [
      "accuracy: 0.837\n",
      "precision_0: 0.892\n",
      "precision_1: 0.541\n",
      "recall_0: 0.912\n",
      "recall_1: 0.486\n",
      "f1_0: 0.902\n",
      "f1_1: 0.512\n"
     ]
    }
   ],
   "source": [
    "print(f\"accuracy: {metrics_train['accuracy']:.3f}\")\n",
    "print(f\"precision_0: {metrics_train['False']['precision']:.3f}\")\n",
    "print(f\"precision_1: {metrics_train['True']['precision']:.3f}\")\n",
    "print(f\"recall_0: {metrics_train['False']['recall']:.3f}\")\n",
    "print(f\"recall_1: {metrics_train['True']['recall']:.3f}\")\n",
    "print(f\"f1_0: {metrics_train['False']['f1-score']:.3f}\")\n",
    "print(f\"f1_1: {metrics_train['True']['f1-score']:.3f}\")"
   ]
  },
  {
   "cell_type": "markdown",
   "id": "fd036b9e",
   "metadata": {},
   "source": [
    "Test subset"
   ]
  },
  {
   "cell_type": "code",
   "execution_count": 42,
   "id": "87736b6b",
   "metadata": {},
   "outputs": [
    {
     "name": "stdout",
     "output_type": "stream",
     "text": [
      "accuracy: 0.827\n",
      "precision_0: 0.888\n",
      "precision_1: 0.516\n",
      "recall_0: 0.904\n",
      "recall_1: 0.475\n",
      "f1_0: 0.896\n",
      "f1_1: 0.495\n"
     ]
    }
   ],
   "source": [
    "print(f\"accuracy: {metrics_test['accuracy']:.3f}\")\n",
    "print(f\"precision_0: {metrics_test['False']['precision']:.3f}\")\n",
    "print(f\"precision_1: {metrics_test['True']['precision']:.3f}\")\n",
    "print(f\"recall_0: {metrics_test['False']['recall']:.3f}\")\n",
    "print(f\"recall_1: {metrics_test['True']['recall']:.3f}\")\n",
    "print(f\"f1_0: {metrics_test['False']['f1-score']:.3f}\")\n",
    "print(f\"f1_1: {metrics_test['True']['f1-score']:.3f}\")"
   ]
  },
  {
   "cell_type": "markdown",
   "id": "c4ae9392",
   "metadata": {},
   "source": [
    "Results from research paper and our attempt vary greatly, this is caused by lack of precise information about how the dataset was prepared and randomstate for data split"
   ]
  },
  {
   "cell_type": "markdown",
   "id": "2f221128",
   "metadata": {},
   "source": []
  }
 ],
 "metadata": {
  "kernelspec": {
   "display_name": "Python 3",
   "language": "python",
   "name": "python3"
  },
  "language_info": {
   "codemirror_mode": {
    "name": "ipython",
    "version": 3
   },
   "file_extension": ".py",
   "mimetype": "text/x-python",
   "name": "python",
   "nbconvert_exporter": "python",
   "pygments_lexer": "ipython3",
   "version": "3.12.1"
  }
 },
 "nbformat": 4,
 "nbformat_minor": 5
}
